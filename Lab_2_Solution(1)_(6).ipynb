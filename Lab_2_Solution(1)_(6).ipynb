{
  "cells": [
    {
      "cell_type": "markdown",
      "metadata": {
        "id": "view-in-github",
        "colab_type": "text"
      },
      "source": [
        "<a href=\"https://colab.research.google.com/github/adinsa1/Data110/blob/main/Lab_2_Solution(1)_(6).ipynb\" target=\"_parent\"><img src=\"https://colab.research.google.com/assets/colab-badge.svg\" alt=\"Open In Colab\"/></a>"
      ]
    },
    {
      "cell_type": "code",
      "execution_count": null,
      "metadata": {
        "id": "3cpvcQi6xB0v",
        "outputId": "e115f3c6-4104-4eb0-efbd-aece0b8e0cc3"
      },
      "outputs": [
        {
          "data": {
            "text/plain": [
              "array([[1., 0., 0., 0., 0.],\n",
              "       [0., 1., 0., 0., 0.],\n",
              "       [0., 0., 1., 0., 0.],\n",
              "       [0., 0., 0., 1., 0.],\n",
              "       [0., 0., 0., 0., 1.]])"
            ]
          },
          "execution_count": 1,
          "metadata": {},
          "output_type": "execute_result"
        }
      ],
      "source": [
        "#Q1\n",
        "import numpy as np\n",
        "id_5 =np.identity(5)\n",
        "id_5"
      ]
    },
    {
      "cell_type": "code",
      "execution_count": null,
      "metadata": {
        "id": "muWIz_TExB0x",
        "outputId": "85692c8a-c84d-45d9-92d5-a006efe45db1"
      },
      "outputs": [
        {
          "data": {
            "text/plain": [
              "array([[1., 0., 0., 0., 0.],\n",
              "       [0., 1., 0., 0., 0.],\n",
              "       [0., 0., 1., 0., 0.],\n",
              "       [0., 0., 0., 1., 0.],\n",
              "       [0., 0., 0., 0., 1.]])"
            ]
          },
          "execution_count": 2,
          "metadata": {},
          "output_type": "execute_result"
        }
      ],
      "source": [
        "id_55 = np.eye(5)\n",
        "id_55"
      ]
    },
    {
      "cell_type": "code",
      "execution_count": null,
      "metadata": {
        "id": "pfVwVDhbxB0x",
        "outputId": "ca8f2a5f-ed01-41ba-c17c-e59d8cd9da60"
      },
      "outputs": [
        {
          "data": {
            "text/plain": [
              "array([4, 3, 2, 1])"
            ]
          },
          "execution_count": 3,
          "metadata": {},
          "output_type": "execute_result"
        }
      ],
      "source": [
        "#Q2\n",
        "def reverse(x):\n",
        "    y = x[::-1]\n",
        "    return (y)\n",
        "\n",
        "reverse(np.array([1,2,3,4]))\n",
        ""
      ]
    },
    {
      "cell_type": "code",
      "execution_count": null,
      "metadata": {
        "id": "6LYBTMwfxB0y",
        "outputId": "8d989654-c801-44ef-b5fd-5a43ce52d203"
      },
      "outputs": [
        {
          "data": {
            "text/plain": [
              "array([2, 0, 0, 1, 7, 0])"
            ]
          },
          "execution_count": 5,
          "metadata": {},
          "output_type": "execute_result"
        }
      ],
      "source": [
        "#Q3\n",
        "x = np.array([2, -5, -4, 1, 7, -9])\n",
        "x[x<0] = 0\n",
        "x"
      ]
    },
    {
      "cell_type": "code",
      "execution_count": null,
      "metadata": {
        "id": "LC58QXdixB0y",
        "outputId": "ab6ff513-1541-4ab4-806f-5cc682c26f48"
      },
      "outputs": [
        {
          "name": "stdout",
          "output_type": "stream",
          "text": [
            "[[ 0  1  2  3]\n",
            " [ 4  5  6  7]\n",
            " [ 8  9 10 11]]\n",
            "[[ 2  1  0  3]\n",
            " [ 6  5  4  7]\n",
            " [10  9  8 11]]\n"
          ]
        }
      ],
      "source": [
        "#Q4\n",
        "arr_34 = np.arange(12).reshape(3,4)\n",
        "print(arr_34)\n",
        "arr_34[:,[0,2]] = arr_34[:,[2,0]]\n",
        "print(arr_34)\n"
      ]
    },
    {
      "cell_type": "code",
      "execution_count": null,
      "metadata": {
        "id": "yw4fkk4-xB0z",
        "outputId": "f094cde3-2d20-4f6d-f74d-fdc0765f31a3"
      },
      "outputs": [
        {
          "data": {
            "text/plain": [
              "array([[ 95.56574664,  89.78462424, 100.58302024,  92.03817036],\n",
              "       [ 93.65004206, 106.23794723,  95.95693713, 102.1030208 ],\n",
              "       [ 94.39744113,  85.19988639, 121.40707168, 127.54683595]])"
            ]
          },
          "execution_count": 9,
          "metadata": {},
          "output_type": "execute_result"
        }
      ],
      "source": [
        "#Q5\n",
        "rd = np.random.normal(loc=100, scale=15, size=(3,4))\n",
        "rd"
      ]
    },
    {
      "cell_type": "code",
      "execution_count": null,
      "metadata": {
        "id": "CZ2z40eXxB0z"
      },
      "outputs": [],
      "source": []
    }
  ],
  "metadata": {
    "kernelspec": {
      "display_name": "Python 3",
      "language": "python",
      "name": "python3"
    },
    "language_info": {
      "codemirror_mode": {
        "name": "ipython",
        "version": 3
      },
      "file_extension": ".py",
      "mimetype": "text/x-python",
      "name": "python",
      "nbconvert_exporter": "python",
      "pygments_lexer": "ipython3",
      "version": "3.7.4"
    },
    "colab": {
      "provenance": [],
      "include_colab_link": true
    }
  },
  "nbformat": 4,
  "nbformat_minor": 0
}
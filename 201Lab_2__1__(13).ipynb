{
  "cells": [
    {
      "cell_type": "markdown",
      "metadata": {
        "id": "view-in-github",
        "colab_type": "text"
      },
      "source": [
        "<a href=\"https://colab.research.google.com/github/adinsa1/Data110/blob/main/201Lab_2__1__(13).ipynb\" target=\"_parent\"><img src=\"https://colab.research.google.com/assets/colab-badge.svg\" alt=\"Open In Colab\"/></a>"
      ]
    },
    {
      "cell_type": "code",
      "execution_count": null,
      "metadata": {
        "id": "4fXYO1ZOxrnn"
      },
      "outputs": [],
      "source": [
        "#Q1\n",
        "# Use Numpy to create a 5x5 identity matrix"
      ]
    },
    {
      "cell_type": "code",
      "execution_count": null,
      "metadata": {
        "id": "_CMiL_iuxrno"
      },
      "outputs": [],
      "source": [
        "#Q2\n",
        "#Write a function that accepts an array and return its revers (e.g., [1 2 3 4] -> [4 3 2 1])"
      ]
    },
    {
      "cell_type": "code",
      "execution_count": null,
      "metadata": {
        "id": "Bnu0Ub7_xrno"
      },
      "outputs": [],
      "source": [
        "#Q3\n",
        "# Write a code that replaces the negative values of an array with zero\n"
      ]
    },
    {
      "cell_type": "code",
      "execution_count": null,
      "metadata": {
        "id": "ObF9qkndxrnp"
      },
      "outputs": [],
      "source": [
        "#Q4\n",
        "# Create an array of shape 3x4 and swap column 1 and column 3"
      ]
    },
    {
      "cell_type": "code",
      "execution_count": null,
      "metadata": {
        "id": "MJse6apWxrnp"
      },
      "outputs": [],
      "source": [
        "#Q5\n",
        "# Create an array of shape 3x4 by drawing random numbers from a normal (Gaussian) distribution\n",
        "# with mean 100 and standard deviation 15"
      ]
    },
    {
      "cell_type": "code",
      "execution_count": null,
      "metadata": {
        "id": "r_SCK3r7xrnp"
      },
      "outputs": [],
      "source": []
    }
  ],
  "metadata": {
    "kernelspec": {
      "display_name": "Python 3",
      "language": "python",
      "name": "python3"
    },
    "language_info": {
      "codemirror_mode": {
        "name": "ipython",
        "version": 3
      },
      "file_extension": ".py",
      "mimetype": "text/x-python",
      "name": "python",
      "nbconvert_exporter": "python",
      "pygments_lexer": "ipython3",
      "version": "3.7.4"
    },
    "colab": {
      "provenance": [],
      "include_colab_link": true
    }
  },
  "nbformat": 4,
  "nbformat_minor": 0
}
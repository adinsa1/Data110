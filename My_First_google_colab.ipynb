{
  "nbformat": 4,
  "nbformat_minor": 0,
  "metadata": {
    "colab": {
      "private_outputs": true,
      "provenance": [],
      "include_colab_link": true
    },
    "kernelspec": {
      "name": "python3",
      "display_name": "Python 3"
    },
    "language_info": {
      "name": "python"
    }
  },
  "cells": [
    {
      "cell_type": "markdown",
      "metadata": {
        "id": "view-in-github",
        "colab_type": "text"
      },
      "source": [
        "<a href=\"https://colab.research.google.com/github/adinsa1/Data110/blob/main/My_First_google_colab.ipynb\" target=\"_parent\"><img src=\"https://colab.research.google.com/assets/colab-badge.svg\" alt=\"Open In Colab\"/></a>"
      ]
    },
    {
      "cell_type": "markdown",
      "source": [
        "#This is My first Python Code\n",
        "\n",
        "\n"
      ],
      "metadata": {
        "id": "SydukFKX_5W9"
      }
    },
    {
      "cell_type": "code",
      "execution_count": null,
      "metadata": {
        "id": "3y3DeVLw_Aye"
      },
      "outputs": [],
      "source": [
        "#import the package\n",
        "import matplotlib.pyplot as plt"
      ]
    },
    {
      "cell_type": "code",
      "source": [
        "x=[1,2,3,4]\n",
        "y=[3,2,12,20]\n",
        "z=[3,4,6,12]\n",
        "print(x)\n",
        "print(y)\n",
        "print(z)"
      ],
      "metadata": {
        "id": "1dVqogADAkKE"
      },
      "execution_count": null,
      "outputs": []
    },
    {
      "cell_type": "code",
      "source": [
        "plt.style.use('tableau-colorblind10')\n",
        "plt.plot(x,y,label='graph 1')\n",
        "plt.plot(x,z,label='graph 2')\n",
        "#sometime the graph does not show... you need to do this\n",
        "plt.title('My First Graph')\n",
        "plt.xlabel('time')\n",
        "plt.ylabel('speed')\n",
        "plt.legend()\n",
        "plt.grid(True)\n",
        "plt.show()\n"
      ],
      "metadata": {
        "id": "wFQ9KLcwEdZ5"
      },
      "execution_count": null,
      "outputs": []
    },
    {
      "cell_type": "code",
      "source": [
        "plt.style.available"
      ],
      "metadata": {
        "id": "rInvTrTUMVCL"
      },
      "execution_count": null,
      "outputs": []
    },
    {
      "cell_type": "code",
      "source": [
        "import pandas as pd\n"
      ],
      "metadata": {
        "id": "1ls2DpjrPNN3"
      },
      "execution_count": null,
      "outputs": []
    },
    {
      "cell_type": "code",
      "source": [
        "df=pd.read_csv('/content/happiness_2017.csv')\n",
        "\n",
        "df=pd.read_csv('/content/happiness.csv')\n"
      ],
      "metadata": {
        "id": "Qo9a9V4BPNDf"
      },
      "execution_count": null,
      "outputs": []
    },
    {
      "cell_type": "code",
      "source": [
        "df.head(10)"
      ],
      "metadata": {
        "id": "5HmCNX-yQIxw"
      },
      "execution_count": null,
      "outputs": []
    },
    {
      "cell_type": "code",
      "source": [
        "df.info()"
      ],
      "metadata": {
        "id": "HNdEACtBREU9"
      },
      "execution_count": null,
      "outputs": []
    },
    {
      "cell_type": "code",
      "source": [
        "df.describe()"
      ],
      "metadata": {
        "id": "RAQvIbq2Rih_"
      },
      "execution_count": null,
      "outputs": []
    },
    {
      "cell_type": "code",
      "source": [
        "df['Generosity'].describe()"
      ],
      "metadata": {
        "id": "0s-uB2l0R4xT"
      },
      "execution_count": null,
      "outputs": []
    },
    {
      "cell_type": "code",
      "source": [
        "plt.style.use('ggplot')\n",
        "plt.scatter(df['Rank'],df['Happiness Score'])\n",
        "plt.xlabel('Rank')\n",
        "plt.ylabel('Happiness Score')\n",
        "plt.title('')"
      ],
      "metadata": {
        "id": "qNPaJcyrTNq8"
      },
      "execution_count": null,
      "outputs": []
    },
    {
      "cell_type": "code",
      "source": [
        "#Let make the size of the figure bigger so we see better\n",
        "plt.figure(figsize=(20,10))\n",
        "plt.style.use('ggplot')\n",
        "plt.scatter(df['Rank'],df['Happiness Score'])\n",
        "plt.xlabel('Rank')\n",
        "plt.ylabel('Happiness Score')\n",
        "#lets add title too\n",
        "plt.title(\"Happiness Score vs. Country Rank - 2017\")"
      ],
      "metadata": {
        "id": "64A4Gtl3i3g_"
      },
      "execution_count": null,
      "outputs": []
    }
  ]
}